{
 "cells": [
  {
   "cell_type": "code",
   "execution_count": 1,
   "metadata": {},
   "outputs": [],
   "source": [
    "import pandas as pd"
   ]
  },
  {
   "cell_type": "code",
   "execution_count": 26,
   "metadata": {},
   "outputs": [
    {
     "name": "stdout",
     "output_type": "stream",
     "text": [
      "0 days 00:00:01.000027648 0 days 00:00:36.687299584 0 days 00:00:01.013913866\n",
      "0 days 00:00:01.000009472 0 days 00:00:17.977245952 0 days 00:00:01.009178588\n",
      "0 days 00:00:01.000016896 0 days 00:00:31.912078592 0 days 00:00:01.007555757\n",
      "0 days 00:00:01.000015616 0 days 00:01:06.334190080 0 days 00:00:01.008302615\n",
      "0 days 00:00:01.000022528 0 days 00:00:10.104732160 0 days 00:00:01.008045841\n",
      "0 days 00:00:01.000010496 0 days 00:00:10.448981760 0 days 00:00:01.008203937\n",
      "0 days 00:00:01.000011776 0 days 00:00:32.420875520 0 days 00:00:01.009113230\n",
      "0 days 00:00:01.000012544 0 days 00:00:16.490661376 0 days 00:00:01.006494102\n",
      "0 days 00:00:01.000012288 0 days 00:00:02.123486208 0 days 00:00:01.006295366\n",
      "0 days 00:00:01.000022784 0 days 00:00:02.886651136 0 days 00:00:01.006343662\n",
      "0 days 00:00:01.000019712 0 days 00:00:02.754043136 0 days 00:00:01.006424311\n",
      "0 days 00:00:01.000002048 0 days 00:00:04.332727552 0 days 00:00:01.007858864\n",
      "0 days 00:00:01.000003584 0 days 00:00:02.659731200 0 days 00:00:01.007916104\n",
      "0 days 00:00:01.000040704 0 days 00:00:02.679187200 0 days 00:00:01.007765259\n",
      "0 days 00:00:01.000023040 0 days 00:00:03.144995584 0 days 00:00:01.007937589\n",
      "0 days 00:00:01.000008704 0 days 00:00:02.599142400 0 days 00:00:01.007643602\n",
      "0 days 00:00:01.000008192 0 days 00:00:08.342977536 0 days 00:00:01.007787951\n",
      "-1 days +23:59:59 0 days 00:00:03 0 days 00:00:01.005465495\n",
      "0 days 00:00:01 0 days 00:00:08 0 days 00:00:01.005628517\n",
      "0 days 00:00:00 0 days 00:00:07 0 days 00:00:01.009320037\n",
      "-1 days +23:59:59 0 days 00:00:03 0 days 00:00:01.007167121\n",
      "0 days 00:00:01 0 days 00:00:03 0 days 00:00:01.005212020\n",
      "0 days 00:00:01 0 days 00:00:05 0 days 00:00:01.005516022\n",
      "0 days 00:00:01 0 days 00:00:06 0 days 00:00:01.004642096\n",
      "-1 days +23:59:59 0 days 00:00:04 0 days 00:00:01.004532018\n",
      "-1 days +23:59:59 0 days 00:00:05 0 days 00:00:01.007832029\n",
      "-1 days +23:59:59 0 days 00:00:08 0 days 00:00:01.008003020\n",
      "0 days 00:00:01 0 days 00:00:04 0 days 00:00:01.004760291\n",
      "-1 days +23:59:58 0 days 00:00:04 0 days 00:00:01.005964427\n",
      "-1 days +23:59:59 0 days 00:00:03 0 days 00:00:01.005316021\n",
      "0 days 00:00:01 0 days 00:00:03 0 days 00:00:01.007214718\n",
      "0 days 00:00:01 0 days 00:00:02 0 days 00:00:01.008179896\n",
      "0 days 00:00:01 0 days 00:00:05 0 days 00:00:01.009604038\n",
      "-1 days +23:59:56 0 days 00:00:05 0 days 00:00:01.009008036\n",
      "0 days 00:00:01 0 days 00:00:02 0 days 00:00:01.009884432\n",
      "74 dagen\n"
     ]
    }
   ],
   "source": [
    "def read_file(instrument, n=61):\n",
    "    \"\"\" Pro \"\"\"\n",
    "    import pandas as pd\n",
    "    path = f\"/Users/joeybesseling/Documents/Programmeren/Projects/Data/{instrument}/{instrument}_1_20({n}).parquet\"\n",
    "    return pd.read_parquet(path)\n",
    "\n",
    "import numpy as np\n",
    "tot = 0\n",
    "for i in range(0, 100):\n",
    "    try:\n",
    "        df = read_file(\"BTC-PERPETUAL\", i)\n",
    "        tot += df.shape[0]\n",
    "        timestamps = pd.to_datetime(df.timestamp)\n",
    "        steps = timestamps - timestamps.shift(1)\n",
    "        print(np.min(steps), np.max(steps), np.mean(steps))\n",
    "        # print(f\"{str(df.timestamp[0])}-{str(df.timestamp[len(df)-1])}\")\n",
    "    except Exception as e:\n",
    "        # print(e)\n",
    "        pass\n",
    "print(f\"{round(tot / 3600 / 24)} dagen\")"
   ]
  },
  {
   "cell_type": "code",
   "execution_count": 14,
   "metadata": {},
   "outputs": [],
   "source": [
    "mid = df.bid1_price + df.ask1_price"
   ]
  },
  {
   "cell_type": "code",
   "execution_count": 25,
   "metadata": {},
   "outputs": [
    {
     "ename": "AttributeError",
     "evalue": "'Index' object has no attribute 'tz_localize'",
     "output_type": "error",
     "traceback": [
      "\u001b[0;31m---------------------------------------------------------------------------\u001b[0m",
      "\u001b[0;31mAttributeError\u001b[0m                            Traceback (most recent call last)",
      "\u001b[0;32m<ipython-input-25-41f181b7cdd6>\u001b[0m in \u001b[0;36m<module>\u001b[0;34m\u001b[0m\n\u001b[1;32m      3\u001b[0m \u001b[0;34m\u001b[0m\u001b[0m\n\u001b[1;32m      4\u001b[0m \u001b[0mtick\u001b[0m \u001b[0;34m=\u001b[0m \u001b[0myf\u001b[0m\u001b[0;34m.\u001b[0m\u001b[0mTicker\u001b[0m\u001b[0;34m(\u001b[0m\u001b[0;34m\"AEX\"\u001b[0m\u001b[0;34m)\u001b[0m\u001b[0;34m\u001b[0m\u001b[0;34m\u001b[0m\u001b[0m\n\u001b[0;32m----> 5\u001b[0;31m \u001b[0mhist\u001b[0m \u001b[0;34m=\u001b[0m \u001b[0mtick\u001b[0m\u001b[0;34m.\u001b[0m\u001b[0mhistory\u001b[0m\u001b[0;34m(\u001b[0m\u001b[0mperiod\u001b[0m \u001b[0;34m=\u001b[0m \u001b[0;34m\"max\"\u001b[0m\u001b[0;34m,\u001b[0m \u001b[0minterval\u001b[0m \u001b[0;34m=\u001b[0m \u001b[0;34m\"1d\"\u001b[0m\u001b[0;34m)\u001b[0m\u001b[0;34m\u001b[0m\u001b[0;34m\u001b[0m\u001b[0m\n\u001b[0m",
      "\u001b[0;32m/opt/anaconda3/lib/python3.8/site-packages/yfinance/base.py\u001b[0m in \u001b[0;36mhistory\u001b[0;34m(self, period, interval, start, end, prepost, actions, auto_adjust, back_adjust, proxy, rounding, tz, **kwargs)\u001b[0m\n\u001b[1;32m    245\u001b[0m \u001b[0;34m\u001b[0m\u001b[0m\n\u001b[1;32m    246\u001b[0m         \u001b[0;31m# index eod/intraday\u001b[0m\u001b[0;34m\u001b[0m\u001b[0;34m\u001b[0m\u001b[0;34m\u001b[0m\u001b[0m\n\u001b[0;32m--> 247\u001b[0;31m         df.index = df.index.tz_localize(\"UTC\").tz_convert(\n\u001b[0m\u001b[1;32m    248\u001b[0m             data[\"chart\"][\"result\"][0][\"meta\"][\"exchangeTimezoneName\"])\n\u001b[1;32m    249\u001b[0m \u001b[0;34m\u001b[0m\u001b[0m\n",
      "\u001b[0;31mAttributeError\u001b[0m: 'Index' object has no attribute 'tz_localize'"
     ]
    }
   ],
   "source": [
    "# tick = yf.Ticker(\"MSFT\")\n",
    "# hist = tick.history(period = \"max\", interval = \"1d\")\n",
    "\n",
    "tick = yf.Ticker(\"AEX\")\n",
    "hist = tick.history(period = \"max\", interval = \"1d\")"
   ]
  }
 ],
 "metadata": {
  "kernelspec": {
   "display_name": "base",
   "language": "python",
   "name": "python3"
  },
  "language_info": {
   "codemirror_mode": {
    "name": "ipython",
    "version": 3
   },
   "file_extension": ".py",
   "mimetype": "text/x-python",
   "name": "python",
   "nbconvert_exporter": "python",
   "pygments_lexer": "ipython3",
   "version": "3.8.8"
  },
  "orig_nbformat": 4,
  "vscode": {
   "interpreter": {
    "hash": "40d3a090f54c6569ab1632332b64b2c03c39dcf918b08424e98f38b5ae0af88f"
   }
  }
 },
 "nbformat": 4,
 "nbformat_minor": 2
}
